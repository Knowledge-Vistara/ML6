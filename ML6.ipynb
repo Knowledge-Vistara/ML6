{
 "cells": [
  {
   "cell_type": "code",
   "execution_count": 4,
   "metadata": {},
   "outputs": [
    {
     "name": "stdout",
     "output_type": "stream",
     "text": [
      "total instances in the dataset: 18\n",
      "\n",
      " Dataset is split into training and testing samples\n",
      "Total training instances: 13\n",
      "Total testing instances: 5\n",
      "\n",
      " total features extracted using CountVectorizer: 43\n",
      "\n",
      " classifiction results of testing samples are given below\n",
      "That is a bad locality to stay->neg\n",
      "We will have good fun tomorrow->pos\n",
      "I love to dance->pos\n",
      "He is my sworn enemy->neg\n",
      "This is an amazing place->pos\n",
      "\n",
      " Accuracy metrics\n",
      "Accuracy of the classifier is 1.0\n",
      "recall: 1.0 \n",
      "precision: 1.0\n",
      "[[2 0]\n",
      " [0 3]]\n"
     ]
    }
   ],
   "source": [
    "import pandas as pd\n",
    "msg=pd.read_csv('data6.csv',names=['message','label'])\n",
    "print('total instances in the dataset:',msg.shape[0])\n",
    "\n",
    "msg['labelnum']=msg.label.map({'pos':1,'neg':0})\n",
    "X=msg.message\n",
    "Y=msg.labelnum\n",
    "\n",
    "from sklearn.model_selection import train_test_split\n",
    "xtrain,xtest,ytrain,ytest=train_test_split(X,Y)\n",
    "print('\\n Dataset is split into training and testing samples')\n",
    "print('Total training instances:',xtrain.shape[0])\n",
    "print('Total testing instances:',xtest.shape[0])\n",
    "    \n",
    "from sklearn.feature_extraction.text import CountVectorizer\n",
    "count_vect=CountVectorizer()\n",
    "xtrain_dtm=count_vect.fit_transform(xtrain)\n",
    "xtest_dtm=count_vect.transform(xtest)\n",
    "print('\\n total features extracted using CountVectorizer:',xtrain_dtm.shape[1])\n",
    "\n",
    "from sklearn.naive_bayes import MultinomialNB\n",
    "clf=MultinomialNB().fit(xtrain_dtm,ytrain)\n",
    "predicted=clf.predict(xtest_dtm)\n",
    "\n",
    "print('\\n classifiction results of testing samples are given below')\n",
    "for doc,p in zip(xtest,predicted):\n",
    "    pred='pos' if p==1 else 'neg'\n",
    "    print('%s->%s'%(doc,pred))\n",
    "\n",
    "from sklearn import metrics\n",
    "print('\\n Accuracy metrics')\n",
    "print('Accuracy of the classifier is',metrics.accuracy_score(ytest,predicted))\n",
    "print('recall:',metrics.recall_score(ytest,predicted),'\\nprecision:',metrics.precision_score(ytest,predicted))\n",
    "print(metrics.confusion_matrix(ytest,predicted))\n"
   ]
  },
  {
   "cell_type": "code",
   "execution_count": null,
   "metadata": {},
   "outputs": [],
   "source": []
  },
  {
   "cell_type": "code",
   "execution_count": null,
   "metadata": {},
   "outputs": [],
   "source": []
  }
 ],
 "metadata": {
  "kernelspec": {
   "display_name": "Python 3",
   "language": "python",
   "name": "python3"
  },
  "language_info": {
   "codemirror_mode": {
    "name": "ipython",
    "version": 3
   },
   "file_extension": ".py",
   "mimetype": "text/x-python",
   "name": "python",
   "nbconvert_exporter": "python",
   "pygments_lexer": "ipython3",
   "version": "3.6.4"
  }
 },
 "nbformat": 4,
 "nbformat_minor": 2
}
